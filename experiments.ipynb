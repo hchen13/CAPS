{
 "cells": [
  {
   "cell_type": "markdown",
   "metadata": {},
   "source": [
    "# Preparation\n",
    "\n",
    "Import everything and load data from cache file"
   ]
  },
  {
   "cell_type": "code",
   "execution_count": 1,
   "metadata": {},
   "outputs": [
    {
     "name": "stderr",
     "output_type": "stream",
     "text": [
      "/home/ethan/miniconda3/lib/python3.6/site-packages/h5py/__init__.py:36: FutureWarning: Conversion of the second argument of issubdtype from `float` to `np.floating` is deprecated. In future, it will be treated as `np.float64 == np.dtype(float).type`.\n",
      "  from ._conv import register_converters as _register_converters\n",
      "Using TensorFlow backend.\n"
     ]
    }
   ],
   "source": [
    "%matplotlib inline\n",
    "import numpy as np\n",
    "from keras import Model, Input\n",
    "from keras.layers import LSTM, Dropout, Dense, multiply, Conv1D, MaxPooling1D, Flatten\n",
    "from keras import backend as K\n",
    "from matplotlib import pyplot as plt\n",
    "\n",
    "x_train = np.load('cache/x_train.npy')\n",
    "y_train = np.load('cache/y_train.npy')"
   ]
  },
  {
   "cell_type": "code",
   "execution_count": 2,
   "metadata": {},
   "outputs": [
    {
     "data": {
      "text/plain": [
       "((369933, 72, 8), (369933, 12, 8))"
      ]
     },
     "execution_count": 2,
     "metadata": {},
     "output_type": "execute_result"
    }
   ],
   "source": [
    "x_train.shape, y_train.shape"
   ]
  },
  {
   "cell_type": "markdown",
   "metadata": {},
   "source": [
    "# Make a model"
   ]
  },
  {
   "cell_type": "code",
   "execution_count": 3,
   "metadata": {
    "scrolled": true
   },
   "outputs": [],
   "source": [
    "def future_direction_conv(input_shape):\n",
    "    inputs = Input(shape=input_shape[1:])\n",
    "\n",
    "    f = Conv1D(16, 6, padding='valid', activation='relu')(inputs)\n",
    "    p = MaxPooling1D()(f)\n",
    "\n",
    "    f = Conv1D(32, 6, padding='valid', activation='relu')(p)\n",
    "    p = MaxPooling1D()(f)\n",
    "\n",
    "    f = Conv1D(64, 6, padding='valid', activation='relu')(p)\n",
    "    p = MaxPooling1D()(f)\n",
    "\n",
    "    f = Conv1D(128, 6, padding='same', activation='relu')(p)\n",
    "    p = MaxPooling1D()(f)\n",
    "\n",
    "    f = Conv1D(256, 6, padding='same', activation='relu')(p)\n",
    "    p = MaxPooling1D()(f)\n",
    "\n",
    "    feature_vec = Flatten()(p)\n",
    "\n",
    "    d = Dense(1, activation='sigmoid', name='direction')(feature_vec)\n",
    "\n",
    "    model = Model(inputs=inputs, outputs=d)\n",
    "    model.compile(optimizer='adam', loss='binary_crossentropy', metrics=['acc'])\n",
    "    model.summary()\n",
    "    return model"
   ]
  },
  {
   "cell_type": "markdown",
   "metadata": {},
   "source": [
    "# Train the model"
   ]
  },
  {
   "cell_type": "code",
   "execution_count": 4,
   "metadata": {},
   "outputs": [
    {
     "name": "stdout",
     "output_type": "stream",
     "text": [
      "_________________________________________________________________\n",
      "Layer (type)                 Output Shape              Param #   \n",
      "=================================================================\n",
      "input_1 (InputLayer)         (None, 72, 8)             0         \n",
      "_________________________________________________________________\n",
      "conv1d_1 (Conv1D)            (None, 67, 16)            784       \n",
      "_________________________________________________________________\n",
      "max_pooling1d_1 (MaxPooling1 (None, 33, 16)            0         \n",
      "_________________________________________________________________\n",
      "conv1d_2 (Conv1D)            (None, 28, 32)            3104      \n",
      "_________________________________________________________________\n",
      "max_pooling1d_2 (MaxPooling1 (None, 14, 32)            0         \n",
      "_________________________________________________________________\n",
      "conv1d_3 (Conv1D)            (None, 9, 64)             12352     \n",
      "_________________________________________________________________\n",
      "max_pooling1d_3 (MaxPooling1 (None, 4, 64)             0         \n",
      "_________________________________________________________________\n",
      "conv1d_4 (Conv1D)            (None, 4, 128)            49280     \n",
      "_________________________________________________________________\n",
      "max_pooling1d_4 (MaxPooling1 (None, 2, 128)            0         \n",
      "_________________________________________________________________\n",
      "conv1d_5 (Conv1D)            (None, 2, 256)            196864    \n",
      "_________________________________________________________________\n",
      "max_pooling1d_5 (MaxPooling1 (None, 1, 256)            0         \n",
      "_________________________________________________________________\n",
      "flatten_1 (Flatten)          (None, 256)               0         \n",
      "_________________________________________________________________\n",
      "direction (Dense)            (None, 1)                 257       \n",
      "=================================================================\n",
      "Total params: 262,641\n",
      "Trainable params: 262,641\n",
      "Non-trainable params: 0\n",
      "_________________________________________________________________\n",
      "Epoch 1/10\n",
      "369933/369933 [==============================] - 65s 177us/step - loss: 0.6798 - acc: 0.5639\n",
      "Epoch 2/10\n",
      "369933/369933 [==============================] - 65s 176us/step - loss: 0.6637 - acc: 0.5949\n",
      "Epoch 3/10\n",
      "369933/369933 [==============================] - 65s 176us/step - loss: 0.6451 - acc: 0.6198\n",
      "Epoch 4/10\n",
      "369933/369933 [==============================] - 65s 176us/step - loss: 0.6223 - acc: 0.64521s - los\n",
      "Epoch 5/10\n",
      "369933/369933 [==============================] - 65s 176us/step - loss: 0.5974 - acc: 0.6704\n",
      "Epoch 6/10\n",
      "369933/369933 [==============================] - 65s 176us/step - loss: 0.5712 - acc: 0.6933\n",
      "Epoch 7/10\n",
      "369933/369933 [==============================] - 65s 175us/step - loss: 0.5464 - acc: 0.7148\n",
      "Epoch 8/10\n",
      "369933/369933 [==============================] - 65s 176us/step - loss: 0.5227 - acc: 0.7334\n",
      "Epoch 9/10\n",
      "369933/369933 [==============================] - 65s 176us/step - loss: 0.5003 - acc: 0.7494\n",
      "Epoch 10/10\n",
      "369933/369933 [==============================] - 65s 176us/step - loss: 0.4795 - acc: 0.7640\n",
      "\n",
      "Training complete!\n",
      "\n"
     ]
    }
   ],
   "source": [
    "mini_x = x_train[:]\n",
    "mini_y = y_train[:]\n",
    "\n",
    "model = future_direction_conv(mini_x.shape)\n",
    "prices_train = mini_y[:, -1, 0]\n",
    "price_diff = prices_train - mini_x[:, -1, 0]\n",
    "labels = price_diff > 0\n",
    "train_history = model.fit(mini_x, labels, epochs=10, batch_size=128, shuffle=True)\n",
    "print('\\nTraining complete!\\n')"
   ]
  },
  {
   "cell_type": "markdown",
   "metadata": {},
   "source": [
    "# Evaluate the performance"
   ]
  },
  {
   "cell_type": "code",
   "execution_count": 9,
   "metadata": {},
   "outputs": [
    {
     "name": "stdout",
     "output_type": "stream",
     "text": [
      "41104/41104 [==============================] - 2s 57us/step\n",
      "[0.5589099841017628, 0.7192487349163098]\n",
      "41104/41104 [==============================] - 2s 50us/step\n",
      "(41104, 1)\n"
     ]
    }
   ],
   "source": [
    "x_valid = np.load('cache/x_valid.npy')\n",
    "y_valid = np.load('cache/y_valid.npy')\n",
    "\n",
    "last_prices = x_valid[:, -1, 0]\n",
    "prices_valid = y_valid[:, -1, 0]\n",
    "diff_valid = prices_valid - last_prices\n",
    "dir_valid = diff_valid > 0\n",
    "\n",
    "performance = model.evaluate(x_valid, dir_valid)\n",
    "print(performance)\n",
    "\n",
    "dir_pred = model.predict(x_valid, verbose=True)\n",
    "print(dir_pred.shape)"
   ]
  },
  {
   "cell_type": "code",
   "execution_count": 10,
   "metadata": {
    "scrolled": true
   },
   "outputs": [
    {
     "name": "stdout",
     "output_type": "stream",
     "text": [
      "Direction Accuracy: 71.925%\n"
     ]
    }
   ],
   "source": [
    "dir_pred = dir_pred.squeeze()\n",
    "\n",
    "dir_pred = dir_pred > .5\n",
    "\n",
    "correct_dirs = np.sum(dir_valid == dir_pred)\n",
    "acc = correct_dirs / len(dir_valid)\n",
    "\n",
    "print(\"Direction Accuracy: {:.3f}%\".format(acc * 100))"
   ]
  },
  {
   "cell_type": "markdown",
   "metadata": {},
   "source": [
    "# Visualization"
   ]
  },
  {
   "cell_type": "code",
   "execution_count": 39,
   "metadata": {},
   "outputs": [
    {
     "name": "stdout",
     "output_type": "stream",
     "text": [
      "(72, 8) (12, 8)\n"
     ]
    },
    {
     "data": {
      "text/plain": [
       "<matplotlib.patches.FancyArrow at 0x7f0930b0c160>"
      ]
     },
     "execution_count": 39,
     "metadata": {},
     "output_type": "execute_result"
    },
    {
     "data": {
      "image/png": "[encoded data removed]",
      "text/plain": [
       "<Figure size 1152x720 with 1 Axes>"
      ]
     },
     "metadata": {},
     "output_type": "display_data"
    }
   ],
   "source": [
    "sample_id = np.random.randint(len(x_valid))\n",
    "# sample_id = 7\n",
    "sample_x = x_valid[sample_id]\n",
    "sample_y = y_valid[sample_id]\n",
    "prediction = dir_pred[sample_id]\n",
    "print(sample_x.shape, sample_y.shape)\n",
    "\n",
    "direction = (np.float64(prediction) * 2 - 1) * .3\n",
    "\n",
    "hist_length = len(sample_x)\n",
    "fut_length = len(sample_y)\n",
    "\n",
    "plt.figure(figsize=[16, 10])\n",
    "# prices\n",
    "plt.plot(range(hist_length), sample_x[:, 0], 'b')\n",
    "# reality\n",
    "plt.plot(range(hist_length, hist_length + fut_length), sample_y[:, 0], 'g')\n",
    "\n",
    "plt.arrow(hist_length - 1, sample_x[-1, 0], fut_length, direction, color='r')"
   ]
  }
 ],
 "metadata": {
  "kernelspec": {
   "display_name": "Python 3",
   "language": "python",
   "name": "python3"
  },
  "language_info": {
   "codemirror_mode": {
    "name": "ipython",
    "version": 3
   },
   "file_extension": ".py",
   "mimetype": "text/x-python",
   "name": "python",
   "nbconvert_exporter": "python",
   "pygments_lexer": "ipython3",
   "version": "3.6.4"
  }
 },
 "nbformat": 4,
 "nbformat_minor": 2
}
